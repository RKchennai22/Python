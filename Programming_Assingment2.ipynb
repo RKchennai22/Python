{
 "cells": [
  {
   "cell_type": "code",
   "execution_count": 1,
   "id": "b2141803",
   "metadata": {},
   "outputs": [],
   "source": [
    "#1.\tWrite a Python program to convert kilometers to miles?"
   ]
  },
  {
   "cell_type": "code",
   "execution_count": 6,
   "id": "a6bacdab",
   "metadata": {},
   "outputs": [
    {
     "name": "stdout",
     "output_type": "stream",
     "text": [
      "Enter the kilometer500\n",
      "310.6855 Miles\n"
     ]
    }
   ],
   "source": [
    "a=int(input(\"Enter the kilometer\"))\n",
    "b=a*0.621371\n",
    "print(b,\"Miles\")"
   ]
  },
  {
   "cell_type": "code",
   "execution_count": 8,
   "id": "d072692a",
   "metadata": {},
   "outputs": [],
   "source": [
    "#2.\tWrite a Python program to convert Celsius to Fahrenheit?"
   ]
  },
  {
   "cell_type": "code",
   "execution_count": 11,
   "id": "55281c62",
   "metadata": {},
   "outputs": [
    {
     "name": "stdout",
     "output_type": "stream",
     "text": [
      "Enter the celsius value : 50\n",
      "The Fahrenheit value of 50  degree celsius is : 122.0\n"
     ]
    }
   ],
   "source": [
    "a=int(input(\"Enter the celsius value : \"))\n",
    "b=(a*1.8)+32\n",
    "print(\"The Fahrenheit value of \"+str(a),\" degree celsius is :\",b,)"
   ]
  },
  {
   "cell_type": "code",
   "execution_count": 12,
   "id": "58746d54",
   "metadata": {},
   "outputs": [],
   "source": [
    "#3.\tWrite a Python program to display calendar?"
   ]
  },
  {
   "cell_type": "code",
   "execution_count": 22,
   "id": "3263c57b",
   "metadata": {},
   "outputs": [
    {
     "name": "stdout",
     "output_type": "stream",
     "text": [
      "Enter the year to display2022\n",
      "                                  2022\n",
      "\n",
      "      January                   February                   March\n",
      "Mo Tu We Th Fr Sa Su      Mo Tu We Th Fr Sa Su      Mo Tu We Th Fr Sa Su\n",
      "                1  2          1  2  3  4  5  6          1  2  3  4  5  6\n",
      " 3  4  5  6  7  8  9       7  8  9 10 11 12 13       7  8  9 10 11 12 13\n",
      "10 11 12 13 14 15 16      14 15 16 17 18 19 20      14 15 16 17 18 19 20\n",
      "17 18 19 20 21 22 23      21 22 23 24 25 26 27      21 22 23 24 25 26 27\n",
      "24 25 26 27 28 29 30      28                        28 29 30 31\n",
      "31\n",
      "\n",
      "       April                      May                       June\n",
      "Mo Tu We Th Fr Sa Su      Mo Tu We Th Fr Sa Su      Mo Tu We Th Fr Sa Su\n",
      "             1  2  3                         1             1  2  3  4  5\n",
      " 4  5  6  7  8  9 10       2  3  4  5  6  7  8       6  7  8  9 10 11 12\n",
      "11 12 13 14 15 16 17       9 10 11 12 13 14 15      13 14 15 16 17 18 19\n",
      "18 19 20 21 22 23 24      16 17 18 19 20 21 22      20 21 22 23 24 25 26\n",
      "25 26 27 28 29 30         23 24 25 26 27 28 29      27 28 29 30\n",
      "                          30 31\n",
      "\n",
      "        July                     August                  September\n",
      "Mo Tu We Th Fr Sa Su      Mo Tu We Th Fr Sa Su      Mo Tu We Th Fr Sa Su\n",
      "             1  2  3       1  2  3  4  5  6  7                1  2  3  4\n",
      " 4  5  6  7  8  9 10       8  9 10 11 12 13 14       5  6  7  8  9 10 11\n",
      "11 12 13 14 15 16 17      15 16 17 18 19 20 21      12 13 14 15 16 17 18\n",
      "18 19 20 21 22 23 24      22 23 24 25 26 27 28      19 20 21 22 23 24 25\n",
      "25 26 27 28 29 30 31      29 30 31                  26 27 28 29 30\n",
      "\n",
      "      October                   November                  December\n",
      "Mo Tu We Th Fr Sa Su      Mo Tu We Th Fr Sa Su      Mo Tu We Th Fr Sa Su\n",
      "                1  2          1  2  3  4  5  6                1  2  3  4\n",
      " 3  4  5  6  7  8  9       7  8  9 10 11 12 13       5  6  7  8  9 10 11\n",
      "10 11 12 13 14 15 16      14 15 16 17 18 19 20      12 13 14 15 16 17 18\n",
      "17 18 19 20 21 22 23      21 22 23 24 25 26 27      19 20 21 22 23 24 25\n",
      "24 25 26 27 28 29 30      28 29 30                  26 27 28 29 30 31\n",
      "31\n",
      "\n"
     ]
    }
   ],
   "source": [
    "import calendar\n",
    "yy=int(input(\"Enter the year to display\"))\n",
    "print(calendar.calendar(yy))"
   ]
  },
  {
   "cell_type": "code",
   "execution_count": 23,
   "id": "69d97e45",
   "metadata": {},
   "outputs": [],
   "source": [
    "#4.\tWrite a Python program to solve quadratic equation?"
   ]
  },
  {
   "cell_type": "code",
   "execution_count": 9,
   "id": "4a1d1cdb",
   "metadata": {},
   "outputs": [
    {
     "name": "stdout",
     "output_type": "stream",
     "text": [
      "Enter the value of a :0\n",
      "Enter the value of b :8\n",
      "Enter the value of c :1\n",
      "Enter the value for a is not a equal to zero\n",
      "Enter the value of a :5\n",
      "The result is real and different roots\n",
      "-0.13667504192892005\n",
      "-1.4633249580710799\n"
     ]
    }
   ],
   "source": [
    "import math \n",
    "a=int(input(\"Enter the value of a :\"))\n",
    "b=int(input(\"Enter the value of b :\"))\n",
    "c=int(input(\"Enter the value of c :\"))\n",
    "while a==0:\n",
    "    print(\"Enter the value for a is not a equal to zero\")\n",
    "    a=int(input(\"Enter the value of a :\"))\n",
    "d=b*b-4*a*c\n",
    "sqrt_value=math.sqrt(abs(d))\n",
    "if d>0:\n",
    "    print(\"The result is real and different roots\")\n",
    "    print((-b+sqrt_value)/(2*a))\n",
    "    print((-b-sqrt_value)/(2*a))\n",
    "elif d==0:\n",
    "    print(\"real and same roots\")\n",
    "    print(-b/(2*a))\n",
    "else:\n",
    "    print(\"Complex roots\")\n",
    "    print(-b/(2*a),\"+i\",sqrt_value)\n",
    "    print(-b/(2*a),\"-i\",sqrt_value)"
   ]
  },
  {
   "cell_type": "code",
   "execution_count": 10,
   "id": "2ea67234",
   "metadata": {},
   "outputs": [],
   "source": [
    "#5.\tWrite a Python program to swap two variables without temp variable?"
   ]
  },
  {
   "cell_type": "code",
   "execution_count": 14,
   "id": "c19d0940",
   "metadata": {},
   "outputs": [
    {
     "name": "stdout",
     "output_type": "stream",
     "text": [
      "Enter the value of a:8\n",
      "Enter the value of b:0\n",
      "The value of a is after swap : 0\n",
      "The value of b is after swap : 8\n"
     ]
    }
   ],
   "source": [
    "a=input(\"Enter the value of a:\")\n",
    "b=input(\"Enter the value of b:\")\n",
    "a,b=b,a\n",
    "print(\"The value of a is after swap :\",a)\n",
    "print(\"The value of b is after swap :\",b)"
   ]
  },
  {
   "cell_type": "code",
   "execution_count": null,
   "id": "f02ce0af",
   "metadata": {},
   "outputs": [],
   "source": []
  }
 ],
 "metadata": {
  "kernelspec": {
   "display_name": "Python 3 (ipykernel)",
   "language": "python",
   "name": "python3"
  },
  "language_info": {
   "codemirror_mode": {
    "name": "ipython",
    "version": 3
   },
   "file_extension": ".py",
   "mimetype": "text/x-python",
   "name": "python",
   "nbconvert_exporter": "python",
   "pygments_lexer": "ipython3",
   "version": "3.9.7"
  }
 },
 "nbformat": 4,
 "nbformat_minor": 5
}
