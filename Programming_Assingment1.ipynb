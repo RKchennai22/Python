{
 "cells": [
  {
   "cell_type": "code",
   "execution_count": 1,
   "id": "dd4885f9",
   "metadata": {},
   "outputs": [],
   "source": [
    "#1.\tWrite a Python program to print \"Hello Python\"?"
   ]
  },
  {
   "cell_type": "code",
   "execution_count": 2,
   "id": "3952805f",
   "metadata": {},
   "outputs": [
    {
     "name": "stdout",
     "output_type": "stream",
     "text": [
      "Hello Python\n"
     ]
    }
   ],
   "source": [
    "print(\"Hello Python\")"
   ]
  },
  {
   "cell_type": "code",
   "execution_count": 3,
   "id": "fe52e962",
   "metadata": {},
   "outputs": [],
   "source": [
    "#2.2.\tWrite a Python program to do arithmetical operations addition and division.?"
   ]
  },
  {
   "cell_type": "code",
   "execution_count": 14,
   "id": "2982adab",
   "metadata": {},
   "outputs": [
    {
     "name": "stdout",
     "output_type": "stream",
     "text": [
      "Enter the value of a                   : 10\n",
      "Enter the value of b other than zero   : 10\n",
      "Sum 10 and 10 is                        : 20\n",
      "Division of 10 and 10 is               :  1.0\n"
     ]
    }
   ],
   "source": [
    "a=int(input(\"Enter the value of a                   : \"))\n",
    "b=int(input(\"Enter the value of b other than zero   : \"))\n",
    "add=a+b\n",
    "div=a/b\n",
    "print(\"Sum \"+ str(a) ,\"and \" + str(b) ,\"is                        :\",add)\n",
    "print(\"Division of \" + str(a) ,\"and \" + str(b) ,\"is               : \",div)"
   ]
  },
  {
   "cell_type": "code",
   "execution_count": 15,
   "id": "9c9a8634",
   "metadata": {},
   "outputs": [],
   "source": [
    "#3.\tWrite a Python program to find the area of a triangle?"
   ]
  },
  {
   "cell_type": "code",
   "execution_count": 20,
   "id": "55926cdf",
   "metadata": {},
   "outputs": [
    {
     "name": "stdout",
     "output_type": "stream",
     "text": [
      "Enter the value of breadth of the triangle : 45\n",
      "Enter the value of height of the triangle  : 25\n",
      "Triangle of 45  and25 is : 562.5\n"
     ]
    }
   ],
   "source": [
    "b=int(input(\"Enter the value of breadth of the triangle : \"))\n",
    "h=int(input(\"Enter the value of height of the triangle  : \"))\n",
    "area=(b*h)/2\n",
    "print( \"Triangle of \" + str(b) ,\" and\" +str(h) ,\"is :\",area)\n"
   ]
  },
  {
   "cell_type": "code",
   "execution_count": 21,
   "id": "f4ea8e23",
   "metadata": {},
   "outputs": [],
   "source": [
    "#4.\tWrite a Python program to swap two variables?"
   ]
  },
  {
   "cell_type": "code",
   "execution_count": 27,
   "id": "a3dfb8ea",
   "metadata": {},
   "outputs": [
    {
     "name": "stdout",
     "output_type": "stream",
     "text": [
      "Enter the value of a  : 45\n",
      "Enter the value of b  :58\n",
      "Value of a is now :  58\n",
      "Value of b is now :  45\n"
     ]
    }
   ],
   "source": [
    "a=input(\"Enter the value of a  : \")\n",
    "b=input('Enter the value of b  :')\n",
    "c=a\n",
    "a=b\n",
    "b=c\n",
    "print(\"Value of a is now : \",a)\n",
    "print( \"Value of b is now : \",b)"
   ]
  },
  {
   "cell_type": "code",
   "execution_count": 28,
   "id": "2e56a4af",
   "metadata": {},
   "outputs": [],
   "source": [
    "#5.\tWrite a Python program to generate a random number?"
   ]
  },
  {
   "cell_type": "code",
   "execution_count": 33,
   "id": "c75cdf09",
   "metadata": {},
   "outputs": [
    {
     "name": "stdout",
     "output_type": "stream",
     "text": [
      "1\n"
     ]
    }
   ],
   "source": [
    "import random\n",
    "\n",
    "list =[1,2,3,4,5,6,7]\n",
    "\n",
    "print(random.choice(list))"
   ]
  },
  {
   "cell_type": "code",
   "execution_count": null,
   "id": "a6126179",
   "metadata": {},
   "outputs": [],
   "source": []
  }
 ],
 "metadata": {
  "kernelspec": {
   "display_name": "Python 3 (ipykernel)",
   "language": "python",
   "name": "python3"
  },
  "language_info": {
   "codemirror_mode": {
    "name": "ipython",
    "version": 3
   },
   "file_extension": ".py",
   "mimetype": "text/x-python",
   "name": "python",
   "nbconvert_exporter": "python",
   "pygments_lexer": "ipython3",
   "version": "3.9.7"
  }
 },
 "nbformat": 4,
 "nbformat_minor": 5
}
