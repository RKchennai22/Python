{
 "cells": [
  {
   "cell_type": "markdown",
   "id": "5a20b4f3",
   "metadata": {},
   "source": [
    "# 1.Write a Python Program to Find the Factorial of a Number?"
   ]
  },
  {
   "cell_type": "code",
   "execution_count": 5,
   "id": "6dba00f3",
   "metadata": {},
   "outputs": [
    {
     "name": "stdout",
     "output_type": "stream",
     "text": [
      "Enter a Factorial number: 4\n",
      "Factorial of 4 is 24\n"
     ]
    }
   ],
   "source": [
    "num = int(input(\"Enter a Factorial number: \"))\n",
    "n = 1\n",
    "for i in range(1,num+1):\n",
    "    n =n* i\n",
    "print(f\"Factorial of {num} is {n}\")"
   ]
  },
  {
   "cell_type": "markdown",
   "id": "a251143d",
   "metadata": {},
   "source": [
    "# 2.Write a Python Program to Display the multiplication Table?"
   ]
  },
  {
   "cell_type": "code",
   "execution_count": 17,
   "id": "68d61270",
   "metadata": {},
   "outputs": [
    {
     "name": "stdout",
     "output_type": "stream",
     "text": [
      "Enter a Multiplication table number: 16\n",
      "1 x 16 = 16\n",
      "2 x 16 = 32\n",
      "3 x 16 = 48\n",
      "4 x 16 = 64\n",
      "5 x 16 = 80\n",
      "6 x 16 = 96\n",
      "7 x 16 = 112\n",
      "8 x 16 = 128\n",
      "9 x 16 = 144\n",
      "10 x 16 = 160\n"
     ]
    }
   ],
   "source": [
    "multi_table = int(input(\"Enter a Multiplication table number: \"))\n",
    "for i in range(1, 11):\n",
    "    print(f\"{i} x {multi_table} = {i*multi_table}\")"
   ]
  },
  {
   "cell_type": "markdown",
   "id": "a750dcd9",
   "metadata": {},
   "source": [
    "# 3.Write a Python Program to Print the Fibonacci sequence?"
   ]
  },
  {
   "cell_type": "code",
   "execution_count": 24,
   "id": "34085906",
   "metadata": {},
   "outputs": [
    {
     "name": "stdout",
     "output_type": "stream",
     "text": [
      "Enter a number of fibonacci sequence: 5\n",
      "0, 1, 1, 2, 3, "
     ]
    }
   ],
   "source": [
    "n = int(input(\"Enter a number of fibonacci sequence: \"))\n",
    "a, b = 0, 1\n",
    "for i in range(0, n):\n",
    "    print(a, end= \", \")\n",
    "    a, b = a + b, a"
   ]
  },
  {
   "cell_type": "markdown",
   "id": "2acbcb7a",
   "metadata": {},
   "source": [
    "# 4.Write a Python Program to Check Armstrong Number?"
   ]
  },
  {
   "cell_type": "code",
   "execution_count": 29,
   "id": "c389cd6a",
   "metadata": {
    "scrolled": false
   },
   "outputs": [
    {
     "name": "stdout",
     "output_type": "stream",
     "text": [
      "Enter an number to check if it's armstrong: 153\n",
      "153 is an Armstrong number\n"
     ]
    }
   ],
   "source": [
    "n = int(input(\"Enter an number to check if it's armstrong: \"))\n",
    "a = 0\n",
    "for i in str(n):\n",
    "    a =a + int(i) ** 3\n",
    "if a == num:\n",
    "    print(f\"{n} is an Armstrong number\")\n",
    "else:\n",
    "    print(f\"{n} is not an Armstrong number\")"
   ]
  },
  {
   "cell_type": "markdown",
   "id": "a1fa7e3d",
   "metadata": {},
   "source": [
    "# 5.Write a Python Program to Find Armstrong Number in an Interval?"
   ]
  },
  {
   "cell_type": "code",
   "execution_count": 34,
   "id": "4a2eb5ca",
   "metadata": {},
   "outputs": [
    {
     "name": "stdout",
     "output_type": "stream",
     "text": [
      "Enter an number: 1000\n",
      "Armstrong numbers starts from 1 to 1000 are: [1, 153, 370, 371, 407]\n"
     ]
    }
   ],
   "source": [
    "n = int(input(\"Enter an number: \"))\n",
    "a = []\n",
    "for i in range(1, n + 1):\n",
    "    b = 0\n",
    "    for j in str(i):\n",
    "        b =b + int(j) ** 3\n",
    "    if b == i:\n",
    "        a.append(i)\n",
    "print(f\"Armstrong numbers starts from 1 to {n} are: {a}\")"
   ]
  },
  {
   "cell_type": "markdown",
   "id": "23f2b100",
   "metadata": {},
   "source": [
    "# 6.Write a Python Program to Find the Sum of Natural Numbers?"
   ]
  },
  {
   "cell_type": "code",
   "execution_count": 35,
   "id": "85bd30dc",
   "metadata": {},
   "outputs": [
    {
     "name": "stdout",
     "output_type": "stream",
     "text": [
      "Enter an number: 50\n",
      "Sum of natural numbers till 50 is: 1275.0\n"
     ]
    }
   ],
   "source": [
    "n = int(input(\"Enter an number: \"))\n",
    "print(f\"Sum of natural numbers till {n} is: {n*(n+1)/2}\")"
   ]
  }
 ],
 "metadata": {
  "kernelspec": {
   "display_name": "Python 3 (ipykernel)",
   "language": "python",
   "name": "python3"
  },
  "language_info": {
   "codemirror_mode": {
    "name": "ipython",
    "version": 3
   },
   "file_extension": ".py",
   "mimetype": "text/x-python",
   "name": "python",
   "nbconvert_exporter": "python",
   "pygments_lexer": "ipython3",
   "version": "3.9.7"
  }
 },
 "nbformat": 4,
 "nbformat_minor": 5
}
